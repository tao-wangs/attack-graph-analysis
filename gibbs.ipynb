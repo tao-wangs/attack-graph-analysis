{
 "cells": [
  {
   "cell_type": "code",
   "execution_count": 1,
   "metadata": {},
   "outputs": [
    {
     "name": "stdout",
     "output_type": "stream",
     "text": [
      "[array([0.5, 0.5, 0.5, ..., 0.5, 0.5, 0.5]), array([0.5, 0.5, 0.5, ..., 0.5, 0.5, 0.5]), array([0.5, 0.5, 0.5, ..., 0.5, 0.5, 0.5]), array([0.5, 0.5, 0.5, ..., 0.5, 0.5, 0.5]), array([0.5, 0.5, 0.5, ..., 0.5, 0.5, 0.5]), array([0.5, 0.5, 0.5, ..., 0.5, 0.5, 0.5]), array([0.5, 0.5, 0.5, ..., 0.5, 0.5, 0.5])]\n"
     ]
    }
   ],
   "source": [
    "import numpy as np\n",
    "\n",
    "# Function to perform one step of Gibbs sampling\n",
    "def gibbs_sampling_step(current_state, factors, node_states):\n",
    "    new_state = current_state.copy()\n",
    "    for node in range(len(current_state)):\n",
    "        # Calculate the conditional distribution for the current node\n",
    "        # given all other nodes.\n",
    "        conditional_distribution = compute_conditional_distribution(node, new_state, factors, node_states)\n",
    "        # Sample a new state for the current node from the conditional distribution\n",
    "        new_state[node] = np.random.choice(node_states, p=conditional_distribution)\n",
    "    return new_state\n",
    "\n",
    "# Stub for the conditional distribution computation (you'll need to define this based on your MRF)\n",
    "def compute_conditional_distribution(node, state, factors, node_states):\n",
    "    # Placeholder for actual implementation\n",
    "    # This function should return a normalized probability distribution for the possible states of the node\n",
    "    # based on the current state of all other nodes and the defined factors.\n",
    "    return np.ones(len(node_states)) / len(node_states)\n",
    "\n",
    "# Main Gibbs sampling algorithm\n",
    "def gibbs_sampling(initial_state, factors, node_states, num_samples, burn_in=1000, sample_interval=10):\n",
    "    current_state = initial_state\n",
    "    samples = []\n",
    "    # Burn-in period\n",
    "    for _ in range(burn_in):\n",
    "        current_state = gibbs_sampling_step(current_state, factors, node_states)\n",
    "    \n",
    "    # Sampling\n",
    "    for _ in range(num_samples):\n",
    "        for _ in range(sample_interval):\n",
    "            current_state = gibbs_sampling_step(current_state, factors, node_states)\n",
    "        samples.append(current_state)\n",
    "    \n",
    "    # Compute marginals\n",
    "    samples_array = np.array(samples)\n",
    "    marginals = []\n",
    "    for node in range(len(initial_state)):\n",
    "        marginal = np.mean(samples_array[:, node] == np.array(node_states).reshape(-1, 1), axis=0)\n",
    "        marginals.append(marginal)\n",
    "    return marginals\n",
    "\n",
    "# Example of use:\n",
    "# Assume each node can be in state 0 or 1, this would need to be changed to fit the specific problem\n",
    "node_states = [0, 1]\n",
    "initial_state = [0] * 7  # Starting with all nodes in state 0\n",
    "factors = []  # Placeholder for factors, which need to be defined for the MRF\n",
    "\n",
    "# Run Gibbs sampling to estimate the marginals\n",
    "estimated_marginals = gibbs_sampling(initial_state, factors, node_states, num_samples=10000)\n",
    "print(estimated_marginals)\n"
   ]
  }
 ],
 "metadata": {
  "kernelspec": {
   "display_name": "Python 3",
   "language": "python",
   "name": "python3"
  },
  "language_info": {
   "codemirror_mode": {
    "name": "ipython",
    "version": 3
   },
   "file_extension": ".py",
   "mimetype": "text/x-python",
   "name": "python",
   "nbconvert_exporter": "python",
   "pygments_lexer": "ipython3",
   "version": "3.10.11"
  }
 },
 "nbformat": 4,
 "nbformat_minor": 2
}
