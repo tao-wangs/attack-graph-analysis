{
 "cells": [
  {
   "cell_type": "code",
   "execution_count": null,
   "metadata": {},
   "outputs": [],
   "source": [
    "import torch\n",
    "\n",
    "# Factors for edges A1-B, A2-C, B-D, C-E\n",
    "A1B = torch.tensor([[0, 0], [0.5, 1.]])\n",
    "A2C = torch.tensor([[0, 0], [0.7, 1.]])\n",
    "BD = torch.tensor([[0.5, 0.1], [0.1, 1.]])\n",
    "CE = torch.tensor([[0.5, 0.1], [0.1, 1.]])\n",
    "\n",
    "DEF = torch.tensor([[0.5, 0, 0, 0], [0, 0, 0, 0.5]])"
   ]
  },
  {
   "cell_type": "code",
   "execution_count": 1,
   "metadata": {},
   "outputs": [
    {
     "data": {
      "text/plain": [
       "(18, {0: 0.5, 1: 0.5}, {0: 0.5, 1: 0.5}, {0: 0.5, 1: 0.5})"
      ]
     },
     "execution_count": 1,
     "metadata": {},
     "output_type": "execute_result"
    }
   ],
   "source": [
    "# Define the potential functions based on the values of A, B, and C\n",
    "def psi_AB(A, B):\n",
    "    return 2 if A == B else 1\n",
    "\n",
    "def psi_BC(B, C):\n",
    "    return 2 if B == C else 1\n",
    "\n",
    "# Calculate Z\n",
    "Z = sum(psi_AB(A, B) * psi_BC(B, C) for A in [0, 1] for B in [0, 1] for C in [0, 1])\n",
    "\n",
    "# Calculate the marginal probabilities\n",
    "P_A = {A: sum(psi_AB(A, B) * psi_BC(B, C) for B in [0, 1] for C in [0, 1]) / Z for A in [0, 1]}\n",
    "P_B = {B: sum(psi_AB(A, B) * psi_BC(B, C) for A in [0, 1] for C in [0, 1]) / Z for B in [0, 1]}\n",
    "P_C = {C: sum(psi_AB(A, B) * psi_BC(B, C) for A in [0, 1] for B in [0, 1]) / Z for C in [0, 1]}\n",
    "\n",
    "Z, P_A, P_B, P_C"
   ]
  }
 ],
 "metadata": {
  "kernelspec": {
   "display_name": "Python 3",
   "language": "python",
   "name": "python3"
  },
  "language_info": {
   "codemirror_mode": {
    "name": "ipython",
    "version": 3
   },
   "file_extension": ".py",
   "mimetype": "text/x-python",
   "name": "python",
   "nbconvert_exporter": "python",
   "pygments_lexer": "ipython3",
   "version": "3.11.9"
  }
 },
 "nbformat": 4,
 "nbformat_minor": 2
}
