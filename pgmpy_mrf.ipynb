{
 "cells": [
  {
   "cell_type": "code",
   "execution_count": 5,
   "metadata": {},
   "outputs": [
    {
     "name": "stderr",
     "output_type": "stream",
     "text": [
      "C:\\Users\\Tao\\AppData\\Local\\Temp\\ipykernel_24384\\4127232866.py:11: RuntimeWarning: divide by zero encountered in log\n",
      "  'A1B': DiscreteFactor(['A1', 'B'], [2, 2], np.exp(np.log(np.array([0., 0., 0.5, 1.])))),\n",
      "C:\\Users\\Tao\\AppData\\Local\\Temp\\ipykernel_24384\\4127232866.py:12: RuntimeWarning: divide by zero encountered in log\n",
      "  'A2C': DiscreteFactor(['A2', 'C'], [2, 2], np.exp(np.log(np.array([0., 0., 0.7, 1.])))),\n"
     ]
    },
    {
     "ename": "AttributeError",
     "evalue": "'FactorGraph' object has no attribute 'states'",
     "output_type": "error",
     "traceback": [
      "\u001b[1;31m---------------------------------------------------------------------------\u001b[0m",
      "\u001b[1;31mAttributeError\u001b[0m                            Traceback (most recent call last)",
      "Cell \u001b[1;32mIn[5], line 31\u001b[0m\n\u001b[0;32m     28\u001b[0m inference \u001b[38;5;241m=\u001b[39m VariableElimination(model)\n\u001b[0;32m     30\u001b[0m \u001b[38;5;66;03m# Calculate and print marginal probabilities\u001b[39;00m\n\u001b[1;32m---> 31\u001b[0m marginal_probabilities \u001b[38;5;241m=\u001b[39m {var: inference\u001b[38;5;241m.\u001b[39mquery(variables\u001b[38;5;241m=\u001b[39m[var]) \u001b[38;5;28;01mfor\u001b[39;00m var \u001b[38;5;129;01min\u001b[39;00m variables}\n\u001b[0;32m     32\u001b[0m \u001b[38;5;28;01mfor\u001b[39;00m var, marginal \u001b[38;5;129;01min\u001b[39;00m marginal_probabilities\u001b[38;5;241m.\u001b[39mitems():\n\u001b[0;32m     33\u001b[0m     \u001b[38;5;28mprint\u001b[39m(\u001b[38;5;124mf\u001b[39m\u001b[38;5;124m\"\u001b[39m\u001b[38;5;124mMarginal probabilities for \u001b[39m\u001b[38;5;132;01m{\u001b[39;00mvar\u001b[38;5;132;01m}\u001b[39;00m\u001b[38;5;124m:\u001b[39m\u001b[38;5;124m\"\u001b[39m)\n",
      "Cell \u001b[1;32mIn[5], line 31\u001b[0m, in \u001b[0;36m<dictcomp>\u001b[1;34m(.0)\u001b[0m\n\u001b[0;32m     28\u001b[0m inference \u001b[38;5;241m=\u001b[39m VariableElimination(model)\n\u001b[0;32m     30\u001b[0m \u001b[38;5;66;03m# Calculate and print marginal probabilities\u001b[39;00m\n\u001b[1;32m---> 31\u001b[0m marginal_probabilities \u001b[38;5;241m=\u001b[39m {var: \u001b[43minference\u001b[49m\u001b[38;5;241;43m.\u001b[39;49m\u001b[43mquery\u001b[49m\u001b[43m(\u001b[49m\u001b[43mvariables\u001b[49m\u001b[38;5;241;43m=\u001b[39;49m\u001b[43m[\u001b[49m\u001b[43mvar\u001b[49m\u001b[43m]\u001b[49m\u001b[43m)\u001b[49m \u001b[38;5;28;01mfor\u001b[39;00m var \u001b[38;5;129;01min\u001b[39;00m variables}\n\u001b[0;32m     32\u001b[0m \u001b[38;5;28;01mfor\u001b[39;00m var, marginal \u001b[38;5;129;01min\u001b[39;00m marginal_probabilities\u001b[38;5;241m.\u001b[39mitems():\n\u001b[0;32m     33\u001b[0m     \u001b[38;5;28mprint\u001b[39m(\u001b[38;5;124mf\u001b[39m\u001b[38;5;124m\"\u001b[39m\u001b[38;5;124mMarginal probabilities for \u001b[39m\u001b[38;5;132;01m{\u001b[39;00mvar\u001b[38;5;132;01m}\u001b[39;00m\u001b[38;5;124m:\u001b[39m\u001b[38;5;124m\"\u001b[39m)\n",
      "File \u001b[1;32m~\\AppData\\Local\\Packages\\PythonSoftwareFoundation.Python.3.10_qbz5n2kfra8p0\\LocalCache\\local-packages\\Python310\\site-packages\\pgmpy\\inference\\ExactInference.py:389\u001b[0m, in \u001b[0;36mVariableElimination.query\u001b[1;34m(self, variables, evidence, virtual_evidence, elimination_order, joint, show_progress)\u001b[0m\n\u001b[0;32m    380\u001b[0m result_values \u001b[38;5;241m=\u001b[39m contract(\n\u001b[0;32m    381\u001b[0m     \u001b[38;5;241m*\u001b[39meinsum_expr, [var_int_map[var] \u001b[38;5;28;01mfor\u001b[39;00m var \u001b[38;5;129;01min\u001b[39;00m variables], optimize\u001b[38;5;241m=\u001b[39m\u001b[38;5;124m\"\u001b[39m\u001b[38;5;124mgreedy\u001b[39m\u001b[38;5;124m\"\u001b[39m\n\u001b[0;32m    382\u001b[0m )\n\u001b[0;32m    384\u001b[0m \u001b[38;5;66;03m# Step 5.3: Prepare return values.\u001b[39;00m\n\u001b[0;32m    385\u001b[0m result \u001b[38;5;241m=\u001b[39m DiscreteFactor(\n\u001b[0;32m    386\u001b[0m     variables,\n\u001b[0;32m    387\u001b[0m     result_values\u001b[38;5;241m.\u001b[39mshape,\n\u001b[0;32m    388\u001b[0m     result_values,\n\u001b[1;32m--> 389\u001b[0m     state_names\u001b[38;5;241m=\u001b[39m{var: model_reduced\u001b[38;5;241m.\u001b[39mstates[var] \u001b[38;5;28;01mfor\u001b[39;00m var \u001b[38;5;129;01min\u001b[39;00m variables},\n\u001b[0;32m    390\u001b[0m )\n\u001b[0;32m    391\u001b[0m \u001b[38;5;28;01mif\u001b[39;00m joint:\n\u001b[0;32m    392\u001b[0m     \u001b[38;5;28;01mif\u001b[39;00m \u001b[38;5;28misinstance\u001b[39m(\n\u001b[0;32m    393\u001b[0m         \u001b[38;5;28mself\u001b[39m\u001b[38;5;241m.\u001b[39mmodel, (BayesianNetwork, JunctionTree, DynamicBayesianNetwork)\n\u001b[0;32m    394\u001b[0m     ):\n",
      "File \u001b[1;32m~\\AppData\\Local\\Packages\\PythonSoftwareFoundation.Python.3.10_qbz5n2kfra8p0\\LocalCache\\local-packages\\Python310\\site-packages\\pgmpy\\inference\\ExactInference.py:389\u001b[0m, in \u001b[0;36m<dictcomp>\u001b[1;34m(.0)\u001b[0m\n\u001b[0;32m    380\u001b[0m result_values \u001b[38;5;241m=\u001b[39m contract(\n\u001b[0;32m    381\u001b[0m     \u001b[38;5;241m*\u001b[39meinsum_expr, [var_int_map[var] \u001b[38;5;28;01mfor\u001b[39;00m var \u001b[38;5;129;01min\u001b[39;00m variables], optimize\u001b[38;5;241m=\u001b[39m\u001b[38;5;124m\"\u001b[39m\u001b[38;5;124mgreedy\u001b[39m\u001b[38;5;124m\"\u001b[39m\n\u001b[0;32m    382\u001b[0m )\n\u001b[0;32m    384\u001b[0m \u001b[38;5;66;03m# Step 5.3: Prepare return values.\u001b[39;00m\n\u001b[0;32m    385\u001b[0m result \u001b[38;5;241m=\u001b[39m DiscreteFactor(\n\u001b[0;32m    386\u001b[0m     variables,\n\u001b[0;32m    387\u001b[0m     result_values\u001b[38;5;241m.\u001b[39mshape,\n\u001b[0;32m    388\u001b[0m     result_values,\n\u001b[1;32m--> 389\u001b[0m     state_names\u001b[38;5;241m=\u001b[39m{var: \u001b[43mmodel_reduced\u001b[49m\u001b[38;5;241;43m.\u001b[39;49m\u001b[43mstates\u001b[49m[var] \u001b[38;5;28;01mfor\u001b[39;00m var \u001b[38;5;129;01min\u001b[39;00m variables},\n\u001b[0;32m    390\u001b[0m )\n\u001b[0;32m    391\u001b[0m \u001b[38;5;28;01mif\u001b[39;00m joint:\n\u001b[0;32m    392\u001b[0m     \u001b[38;5;28;01mif\u001b[39;00m \u001b[38;5;28misinstance\u001b[39m(\n\u001b[0;32m    393\u001b[0m         \u001b[38;5;28mself\u001b[39m\u001b[38;5;241m.\u001b[39mmodel, (BayesianNetwork, JunctionTree, DynamicBayesianNetwork)\n\u001b[0;32m    394\u001b[0m     ):\n",
      "\u001b[1;31mAttributeError\u001b[0m: 'FactorGraph' object has no attribute 'states'"
     ]
    }
   ],
   "source": [
    "import numpy as np\n",
    "from pgmpy.models import FactorGraph\n",
    "from pgmpy.factors.discrete import DiscreteFactor\n",
    "from pgmpy.inference import VariableElimination\n",
    "\n",
    "# Define the variables\n",
    "variables = ['A1', 'A2', 'B', 'C', 'D', 'E', 'F']\n",
    "\n",
    "# Create the factors with proper variable cardinalities and values\n",
    "factors = {\n",
    "    'A1B': DiscreteFactor(['A1', 'B'], [2, 2], np.exp(np.log(np.array([0., 0., 0.5, 1.])))),\n",
    "    'A2C': DiscreteFactor(['A2', 'C'], [2, 2], np.exp(np.log(np.array([0., 0., 0.7, 1.])))),\n",
    "    'BD': DiscreteFactor(['B', 'D'], [2, 2], np.exp(np.log(np.array([0.5, 0.1, 0.1, 1.])))),\n",
    "    'CD': DiscreteFactor(['C', 'D'], [2, 2], np.exp(np.log(np.array([0.5, 0.1, 0.1, 1.])))),\n",
    "    'CE': DiscreteFactor(['C', 'E'], [2, 2], np.exp(np.log(np.array([0.5, 0.1, 0.1, 1.])))),\n",
    "    'DEF': DiscreteFactor(['D', 'E', 'F'], [2, 2, 2], np.exp(np.log(np.array([0.5, 0.1, 0.1, 0.1, 0.1, 0.1, 0.1, 0.5]))))\n",
    "}\n",
    "\n",
    "# Create the factor graph\n",
    "model = FactorGraph()\n",
    "model.add_nodes_from(variables)  # Add variable nodes\n",
    "for factor in factors.values():\n",
    "    model.add_factors(factor)  # Add factors to the graph\n",
    "    for variable in factor.variables:\n",
    "        model.add_edges_from([(variable, factor)])  # Connect variables to their respective factors\n",
    "\n",
    "# Set up inference\n",
    "inference = VariableElimination(model)\n",
    "\n",
    "# Calculate and print marginal probabilities\n",
    "marginal_probabilities = {var: inference.query(variables=[var]) for var in variables}\n",
    "for var, marginal in marginal_probabilities.items():\n",
    "    print(f\"Marginal probabilities for {var}:\")\n",
    "    print(marginal)\n"
   ]
  },
  {
   "cell_type": "code",
   "execution_count": 6,
   "metadata": {},
   "outputs": [
    {
     "ename": "SyntaxError",
     "evalue": "':' expected after dictionary key (1219791021.py, line 43)",
     "output_type": "error",
     "traceback": [
      "\u001b[1;36m  Cell \u001b[1;32mIn[6], line 43\u001b[1;36m\u001b[0m\n\u001b[1;33m    'A1B': factors['A1B'], ('A1', 'B'),\u001b[0m\n\u001b[1;37m                                     ^\u001b[0m\n\u001b[1;31mSyntaxError\u001b[0m\u001b[1;31m:\u001b[0m ':' expected after dictionary key\n"
     ]
    },
    {
     "ename": "",
     "evalue": "",
     "output_type": "error",
     "traceback": [
      "\u001b[1;31mThe Kernel crashed while executing code in the current cell or a previous cell. \n",
      "\u001b[1;31mPlease review the code in the cell(s) to identify a possible cause of the failure. \n",
      "\u001b[1;31mClick <a href='https://aka.ms/vscodeJupyterKernelCrash'>here</a> for more info. \n",
      "\u001b[1;31mView Jupyter <a href='command:jupyter.viewOutput'>log</a> for further details."
     ]
    }
   ],
   "source": [
    "import numpy as np\n",
    "\n",
    "# Initialize factors with explicit values and not using logs\n",
    "factors = {\n",
    "    'A1B': np.array([[0., 0.], [0.5, 1.]]),  # A1, B\n",
    "    'A2C': np.array([[0., 0.], [0.7, 1.]]),  # A2, C\n",
    "    'BD': np.array([[0.5, 0.1], [0.1, 1.]]),  # B, D\n",
    "    'CD': np.array([[0.5, 0.1], [0.1, 1.]]),  # C, D\n",
    "    'CE': np.array([[0.5, 0.1], [0.1, 1.]]),  # C, E\n",
    "    'DEF': np.reshape(np.array([0.5, 0.1, 0.1, 0.1, 0.1, 0.1, 0.1, 0.5]), (2, 2, 2))  # D, E, F\n",
    "}\n",
    "\n",
    "# Manually compute joint distributions and marginals\n",
    "def compute_marginals(factors, variables):\n",
    "    # Start by assuming an equal distribution for each variable (uninformed prior)\n",
    "    domain_size = 2\n",
    "    joint = np.ones(tuple(domain_size for _ in variables))\n",
    "    \n",
    "    # Multiply all factors into the joint distribution\n",
    "    for factor, axes in factors.items():\n",
    "        # Expand the factor to the full joint distribution size\n",
    "        expanded_factor = factor\n",
    "        for axis, var in enumerate(axes):\n",
    "            expanded_factor = np.expand_dims(expanded_factor, axis=axis)\n",
    "            # Broadcast the factor to the full joint dimensions\n",
    "            while expanded_factor.ndim < len(variables):\n",
    "                expanded_factor = np.expand_dims(expanded_factor, axis=-1)\n",
    "        expanded_factor = np.broadcast_to(expanded_factor, joint.shape)\n",
    "        joint *= expanded_factor\n",
    "    \n",
    "    # Compute marginal for each variable by summing out all other variables\n",
    "    marginals = {}\n",
    "    for i, var in enumerate(variables):\n",
    "        axis_to_sum = tuple(j for j in range(len(variables)) if j != i)\n",
    "        marginals[var] = np.sum(joint, axis=axis_to_sum)\n",
    "        marginals[var] /= np.sum(marginals[var])  # Normalize\n",
    "\n",
    "    return marginals\n",
    "\n",
    "# Call the function to compute marginals\n",
    "variables = ['A1', 'A2', 'B', 'C', 'D', 'E', 'F']\n",
    "factor_configurations = {\n",
    "    'A1B': factors['A1B'], ('A1', 'B'),\n",
    "    'A2C': factors['A2C'], ('A2', 'C'),\n",
    "    'BD': factors['BD'], ('B', 'D'),\n",
    "    'CD': factors['CD'], ('C', 'D'),\n",
    "    'CE': factors['CE'], ('C', 'E'),\n",
    "    'DEF': factors['DEF'], ('D', 'E', 'F')\n",
    "}\n",
    "marginals = compute_marginals(factor_configurations, variables)\n",
    "\n",
    "# Print the computed marginals8798\n",
    "for var, marginal in marginals.items():\n",
    "    print(f\"Marginal probabilities for {var}: {marginal}\")\n"
   ]
  }
 ],
 "metadata": {
  "kernelspec": {
   "display_name": "Python 3",
   "language": "python",
   "name": "python3"
  },
  "language_info": {
   "codemirror_mode": {
    "name": "ipython",
    "version": 3
   },
   "file_extension": ".py",
   "mimetype": "text/x-python",
   "name": "python",
   "nbconvert_exporter": "python",
   "pygments_lexer": "ipython3",
   "version": "3.10.11"
  }
 },
 "nbformat": 4,
 "nbformat_minor": 2
}
